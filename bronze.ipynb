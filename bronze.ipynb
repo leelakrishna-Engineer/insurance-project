{
 "cells": [
  {
   "cell_type": "code",
   "execution_count": 0,
   "metadata": {
    "application/vnd.databricks.v1+cell": {
     "cellMetadata": {},
     "inputWidgets": {},
     "nuid": "a04e41a0-1ceb-4aa1-8584-6a9a88cddbe1",
     "showTitle": false,
     "tableResultSettingsMap": {},
     "title": ""
    }
   },
   "outputs": [],
   "source": [
    "#Required each time the cluster is restarted which should be only on the first notebook as they run in order\n",
    "tiers=['bronze','silver','gold']\n",
    "adls_path = {tier:f\"abfss://{tier}@mkrishna.dfs.core.windows.net//\" for tier in tiers}\n",
    "#accessing paths\n",
    "bronze_path = adls_path['bronze']\n",
    "silver_path = adls_path['silver']\n",
    "gold_path = adls_path['gold']\n",
    "dbutils.fs.ls(bronze_path)\n",
    "dbutils.fs.ls(silver_path)\n",
    "dbutils.fs.ls(gold_path)    "
   ]
  },
  {
   "cell_type": "code",
   "execution_count": 0,
   "metadata": {
    "application/vnd.databricks.v1+cell": {
     "cellMetadata": {},
     "inputWidgets": {},
     "nuid": "bd030757-85e3-40bf-9231-95966bce591b",
     "showTitle": false,
     "tableResultSettingsMap": {},
     "title": ""
    }
   },
   "outputs": [],
   "source": [
    "import requests\n",
    "import json\n",
    "from datetime import date, timedelta\n"
   ]
  },
  {
   "cell_type": "code",
   "execution_count": 0,
   "metadata": {
    "application/vnd.databricks.v1+cell": {
     "cellMetadata": {},
     "inputWidgets": {},
     "nuid": "2a155dab-7e95-43c2-886f-9920fef473f2",
     "showTitle": false,
     "tableResultSettingsMap": {},
     "title": ""
    }
   },
   "outputs": [],
   "source": [
    "start_date = date.today() - timedelta(1)\n",
    "end_date = date.today()"
   ]
  },
  {
   "cell_type": "code",
   "execution_count": 0,
   "metadata": {
    "application/vnd.databricks.v1+cell": {
     "cellMetadata": {},
     "inputWidgets": {},
     "nuid": "4178639d-21ca-40af-bb84-a256313fab84",
     "showTitle": false,
     "tableResultSettingsMap": {},
     "title": ""
    }
   },
   "outputs": [],
   "source": [
    "#Construct the API URL with start and end dates provided by data factory, formated for geojson output.\n",
    "url=f\"https://earthquake.usgs.gov/fdsnws/event/1/query?format=geojson&starttime={start_date}&endtime={end_date}\"\n",
    "try:\n",
    "    #make the Get request to fetch data\n",
    "    response=requests.get(url)\n",
    "    response.raise_for_status()\n",
    "    data=response.json().get('features',[])\n",
    "    if not data:\n",
    "        print(\"No data returned for the specified date range.\")\n",
    "    else:\n",
    "        file_path=f\"{bronze_path}/{start_date}_earthquake_data.json\"\n",
    "        json_data=json.dumps(data,indent=4)\n",
    "        dbutils.fs.put(file_path,json_data,overwrite=True)\n",
    "        print(f\"Data saved to {file_path}\")\n",
    "except requests.exceptions.RequestException as e:\n",
    "    print(f\"Error fetching data from api: {e}\")"
   ]
  },
  {
   "cell_type": "code",
   "execution_count": 0,
   "metadata": {
    "application/vnd.databricks.v1+cell": {
     "cellMetadata": {},
     "inputWidgets": {},
     "nuid": "35435bcf-2bf9-43bf-8dcf-73c0e35a177a",
     "showTitle": false,
     "tableResultSettingsMap": {},
     "title": ""
    }
   },
   "outputs": [],
   "source": [
    "output_data={\n",
    "    \"start_date\":start_date.isoformat(),\n",
    "    \"end_date\":end_date.isoformat(),\n",
    "    \"bronze_path\":bronze_path,\n",
    "    \"silver_path\":silver_path,\n",
    "    \"gold_path\":gold_path\n",
    "}\n",
    "dbutils.jobs.taskValues.set(key=\"bronze_output\",value=output_data)\n",
    "\n"
   ]
  }
 ],
 "metadata": {
  "application/vnd.databricks.v1+notebook": {
   "computePreferences": null,
   "dashboards": [],
   "environmentMetadata": {
    "base_environment": "",
    "environment_version": "2"
   },
   "inputWidgetPreferences": null,
   "language": "python",
   "notebookMetadata": {
    "pythonIndentUnit": 4
   },
   "notebookName": "bronze",
   "widgets": {}
  },
  "language_info": {
   "name": "python"
  }
 },
 "nbformat": 4,
 "nbformat_minor": 0
}
