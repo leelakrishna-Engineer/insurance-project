{
 "cells": [
  {
   "cell_type": "code",
   "execution_count": 0,
   "metadata": {
    "application/vnd.databricks.v1+cell": {
     "cellMetadata": {},
     "inputWidgets": {},
     "nuid": "06972461-051f-4af6-b833-ab4e0de3d6e7",
     "showTitle": false,
     "tableResultSettingsMap": {},
     "title": ""
    }
   },
   "outputs": [],
   "source": [
    "#retrive the task value from the previous tasl (bronze)\n",
    "bronze_output=dbutils.jobs.taskValues.get(taskKey=\"bronze\", key=\"bronze_output\", debugValue=\"default\")\n",
    "#Access indivial variables\n",
    "start_date=bronze_output.get(\"start_date\",\"\")\n",
    "bronze_path=bronze_output.get(\"bronze_path\",\"\")\n",
    "silver_path=bronze_output.get(\"silver_path\",\"\")\n",
    "print(\"Start Date:{start_date},Bronze path:{bronze_path}\")"
   ]
  },
  {
   "cell_type": "code",
   "execution_count": 0,
   "metadata": {
    "application/vnd.databricks.v1+cell": {
     "cellMetadata": {},
     "inputWidgets": {},
     "nuid": "a8f393a8-3f47-485b-a8f3-1d9b2bb55d40",
     "showTitle": false,
     "tableResultSettingsMap": {},
     "title": ""
    }
   },
   "outputs": [],
   "source": [
    "from pyspark.sql.functions import col, isnull, when\n",
    "from pyspark.sql.types import TimestampType\n",
    "from datetime import date, timedelta"
   ]
  },
  {
   "cell_type": "code",
   "execution_count": 0,
   "metadata": {
    "application/vnd.databricks.v1+cell": {
     "cellMetadata": {},
     "inputWidgets": {},
     "nuid": "2ddb0588-e513-46bc-a736-0d478b4fdfde",
     "showTitle": false,
     "tableResultSettingsMap": {},
     "title": ""
    }
   },
   "outputs": [],
   "source": [
    "df=spark.read.option(\"multiline\",\"true\").json(f\"{bronze_path}{start_date}_earthquake_data.json\")\n"
   ]
  },
  {
   "cell_type": "code",
   "execution_count": 0,
   "metadata": {
    "application/vnd.databricks.v1+cell": {
     "cellMetadata": {},
     "inputWidgets": {},
     "nuid": "5b749568-e9c7-4307-8049-72637b5691c6",
     "showTitle": false,
     "tableResultSettingsMap": {},
     "title": ""
    }
   },
   "outputs": [],
   "source": [
    "df"
   ]
  },
  {
   "cell_type": "code",
   "execution_count": 0,
   "metadata": {
    "application/vnd.databricks.v1+cell": {
     "cellMetadata": {},
     "inputWidgets": {},
     "nuid": "f21124a6-c809-49cf-9066-e31be733e6e5",
     "showTitle": false,
     "tableResultSettingsMap": {},
     "title": ""
    }
   },
   "outputs": [],
   "source": [
    "#reshaping the equarthquake data\n",
    "df=(df.select(\n",
    "    'id',\n",
    "    col('geometry.coordinates').getItem(0).alias('longitude'),\n",
    "    col('geometry.coordinates').getItem(1).alias('latitude'),\n",
    "    col('geometry.coordinates').getItem(2).alias('elevation'),\n",
    "    col('properties.title').alias('title'),\n",
    "    col('properties.place').alias('place_description'),\n",
    "    col('properties.sig').alias('sig'),\n",
    "    col('properties.mag').alias('mag'),\n",
    "    col('properties.magtype').alias(\"magtype\"),\n",
    "    col(\"properties.time\").alias(\"time\"),\n",
    "    col('properties.updated').alias('updated')\n",
    "    )\n",
    ")"
   ]
  },
  {
   "cell_type": "code",
   "execution_count": 0,
   "metadata": {
    "application/vnd.databricks.v1+cell": {
     "cellMetadata": {},
     "inputWidgets": {},
     "nuid": "3213c920-0816-4b44-9712-c825bccb6d2b",
     "showTitle": false,
     "tableResultSettingsMap": {},
     "title": ""
    }
   },
   "outputs": [],
   "source": [
    "df.head()"
   ]
  },
  {
   "cell_type": "code",
   "execution_count": 0,
   "metadata": {
    "application/vnd.databricks.v1+cell": {
     "cellMetadata": {},
     "inputWidgets": {},
     "nuid": "22657f19-3a89-4952-9074-74832617a427",
     "showTitle": false,
     "tableResultSettingsMap": {},
     "title": ""
    }
   },
   "outputs": [],
   "source": [
    "#Validate data: check for null values\n",
    "df=(df\n",
    "    .withColumn('longitude', when(isnull(col('longitude')),0).otherwise(col('longitude')))\n",
    "    .withColumn('latitude', when(isnull(col('latitude')),0).otherwise(col('latitude')))\n",
    "    .withColumn('time', when(isnull(col('time')),0).otherwise(col('time')))\n",
    ")"
   ]
  },
  {
   "cell_type": "code",
   "execution_count": 0,
   "metadata": {
    "application/vnd.databricks.v1+cell": {
     "cellMetadata": {},
     "inputWidgets": {},
     "nuid": "bb467bd3-b6d5-4113-99cd-9d7701d8b2d0",
     "showTitle": false,
     "tableResultSettingsMap": {},
     "title": ""
    }
   },
   "outputs": [],
   "source": [
    "#converting 'time' and 'updated' to timestamp\n",
    "df=(df\n",
    "    .withColumn('time',(col('time')/1000).cast(TimestampType()))\n",
    "    .withColumn('updated',(col('updated')/1000).cast(TimestampType()))\n",
    ")\n",
    "df.head()"
   ]
  },
  {
   "cell_type": "code",
   "execution_count": 0,
   "metadata": {
    "application/vnd.databricks.v1+cell": {
     "cellMetadata": {},
     "inputWidgets": {},
     "nuid": "6a73a57c-f1b8-43a4-96ef-a3200d15acf5",
     "showTitle": false,
     "tableResultSettingsMap": {},
     "title": ""
    }
   },
   "outputs": [],
   "source": [
    "silver_output_path=f\"{silver_path}earthquake_events_silver/\""
   ]
  },
  {
   "cell_type": "code",
   "execution_count": 0,
   "metadata": {
    "application/vnd.databricks.v1+cell": {
     "cellMetadata": {},
     "inputWidgets": {},
     "nuid": "8d62c595-04f3-40e3-abfd-1e45d65153f1",
     "showTitle": false,
     "tableResultSettingsMap": {},
     "title": ""
    }
   },
   "outputs": [],
   "source": [
    "df.write.mode('append').parquet(silver_output_path)"
   ]
  },
  {
   "cell_type": "code",
   "execution_count": 0,
   "metadata": {
    "application/vnd.databricks.v1+cell": {
     "cellMetadata": {},
     "inputWidgets": {},
     "nuid": "fa448b5c-b981-405c-9388-f0f8ad50578d",
     "showTitle": false,
     "tableResultSettingsMap": {},
     "title": ""
    }
   },
   "outputs": [],
   "source": [
    "dbutils.jobs.taskValues.set(key=\"silver_output\",value=silver_output_path)"
   ]
  }
 ],
 "metadata": {
  "application/vnd.databricks.v1+notebook": {
   "computePreferences": null,
   "dashboards": [],
   "environmentMetadata": {
    "base_environment": "",
    "environment_version": "2"
   },
   "inputWidgetPreferences": null,
   "language": "python",
   "notebookMetadata": {
    "pythonIndentUnit": 4
   },
   "notebookName": "silver",
   "widgets": {}
  },
  "language_info": {
   "name": "python"
  }
 },
 "nbformat": 4,
 "nbformat_minor": 0
}
